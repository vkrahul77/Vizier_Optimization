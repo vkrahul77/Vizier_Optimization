{
 "cells": [
  {
   "cell_type": "code",
   "execution_count": 1,
   "metadata": {},
   "outputs": [],
   "source": [
    "# # Installation\n",
    "# !pip install google-vizier[jax]"
   ]
  },
  {
   "cell_type": "code",
   "execution_count": 1,
   "metadata": {},
   "outputs": [
    {
     "ename": "",
     "evalue": "",
     "output_type": "error",
     "traceback": [
      "\u001b[1;31mRunning cells with '.venv (Python 3.10.12)' requires the ipykernel package.\n",
      "\u001b[1;31mRun the following command to install 'ipykernel' into the Python environment. \n",
      "\u001b[1;31mCommand: '/foss/designs/Vizier_Circuit_Solver/.venv/bin/python -m pip install ipykernel -U --force-reinstall'"
     ]
    }
   ],
   "source": [
    "import numpy as np"
   ]
  },
  {
   "cell_type": "code",
   "execution_count": 2,
   "metadata": {},
   "outputs": [],
   "source": [
    "from vizier.service import pyvizier as vz\n",
    "L = 1e-6  # Channel length (m)\n",
    "VTO = 0.5  # Threshold voltage (Volts)\n",
    "KP = 50e-6  # Transconductance parameter (A/V^2)\n",
    "Cox = 2.3e-3  # Oxide capacitance per unit area (F/m^2)\n",
    "mu_n = KP / Cox  # Mobility (m^2/Vs)\n",
    "\n",
    "RS = 10e3  # Source resistance (Ohms)\n",
    "CL = 1e-12  # Load capacitance (F)\n",
    "gain = 4  # Amplifier gain\n",
    "f3db = 80e6  # 3dB frequency (Hz)\n",
    "Omega_3db = 2 * np.pi * f3db  # Angular frequency (rad/s)\n",
    "\n",
    "Rout = 5e3  # Output resistance (Ohms)\n",
    "problem = vz.ProblemStatement()\n",
    "problem.search_space.root.add_float_param('Vov', 0.13, 1.0)\n",
    "problem.metric_information.append(\n",
    "    vz.MetricInformation(\n",
    "        name='Id', goal=vz.ObjectiveMetricGoal.MINIMIZE))\n",
    "\n",
    "def evaluate(Vov: float) -> float:\n",
    "    # return 1 - 2 * (chocolate - 0.3)**2\n",
    "    Varx = (1/2) * Omega_3db * gain * CL\n",
    "    Vary = (2/3) * (L**2) * gain * Omega_3db * RS * (1 / (mu_n  * Rout))\n",
    "    return (Varx*Vov / (1 - (Vary / Vov)))"
   ]
  },
  {
   "cell_type": "code",
   "execution_count": null,
   "metadata": {},
   "outputs": [],
   "source": [
    "from vizier.service import clients\n",
    "\n",
    "study_config = vz.StudyConfig.from_problem(problem)\n",
    "study_config.algorithm = 'GAUSSIAN_PROCESS_BANDIT'\n",
    "study_client = clients.Study.from_study_config(study_config, owner='my_name', study_id='ID_obj')\n",
    "\n",
    "for _ in range(1):\n",
    "  suggestions = study_client.suggest(count=1)\n",
    "  for suggestion in suggestions:\n",
    "    Vov = suggestion.parameters['Vov']\n",
    "    obj = evaluate(Vov)\n",
    "    print(f'Iteration {suggestion.id}, suggestion (Vov={Vov:.3f}) led to Id value {obj:.6f}.')\n",
    "    final_measurement = vz.Measurement({'Id': obj})\n",
    "    suggestion.complete(final_measurement)"
   ]
  },
  {
   "cell_type": "code",
   "execution_count": null,
   "metadata": {},
   "outputs": [],
   "source": [
    "optimal_trial_client = list(study_client.optimal_trials())[0]\n",
    "print(optimal_trial_client)\n",
    "optimal_trial = optimal_trial_client.materialize()\n",
    "all_trials = [tc.materialize() for tc in study_client.trials()]\n",
    "#Print optimal Vov and ID from the trials\n",
    "print(type(optimal_trial.parameters[\"Vov\"]))\n",
    "# print(f'Optimal Vov: {optimal_trial.parameters[\"Vov\"]:.3f}')\n",
    "print(dir(optimal_trial.metrics[\"Id\"]))\n",
    "print(f'Optimal ID: {optimal_trial.metrics[\"Id\"]:.6f}')\n"
   ]
  },
  {
   "cell_type": "code",
   "execution_count": 1,
   "metadata": {},
   "outputs": [
    {
     "name": "stderr",
     "output_type": "stream",
     "text": [
      "WARNING:absl:Python 3.8+ is required in this case.\n"
     ]
    },
    {
     "name": "stdout",
     "output_type": "stream",
     "text": [
      "Iteration 1\n",
      "  Suggestion 1: {'w': 2.5, 'x': 0.0, 'y': 0.3, 'z': 'a'} -> 6.16\n",
      "  Suggestion 2: {'w': 2.5, 'x': 0.0, 'y': 7.2, 'z': 'g'} -> -45.59\n",
      "Iteration 2\n",
      "  Suggestion 3: {'w': 1.3919179414203866, 'x': 1.0, 'y': 0.3, 'z': 'a'} -> 98.84743555564796\n",
      "  Suggestion 4: {'w': 1.4452676844266819, 'x': -1.0, 'y': 0.3, 'z': 'a'} -> -95.00120132035194\n",
      "Iteration 3\n",
      "  Suggestion 5: {'w': 3.7325753623074096, 'x': 1.0, 'y': 7.2, 'z': 'k'} -> 69.09211883530429\n",
      "  Suggestion 6: {'w': 2.6289150568314303, 'x': 2.0, 'y': 0.3, 'z': 'a'} -> 200.821194376035\n",
      "Iteration 4\n",
      "  Suggestion 7: {'w': 4.999999999999999, 'x': 2.0, 'y': 7.2, 'z': 'a'} -> 167.16\n",
      "  Suggestion 8: {'w': 3.9884730077122423, 'x': 2.0, 'y': 0.3, 'z': 'g'} -> 221.81791693324914\n",
      "Iteration 5\n",
      "  Suggestion 9: {'w': 4.999999999999998, 'x': 2.0, 'y': 0.3, 'z': 'k'} -> 238.90999999999997\n",
      "  Suggestion 10: {'w': 4.999999999999996, 'x': 2.0, 'y': 0.3, 'z': 'a'} -> 218.90999999999997\n",
      "Iteration 6\n",
      "  Suggestion 11: {'w': 4.999999999999988, 'x': 2.0, 'y': 0.3, 'z': 'g'} -> 230.90999999999988\n",
      "  Suggestion 12: {'w': 4.999999999999971, 'x': 2.0, 'y': 0.3, 'z': 'k'} -> 238.9099999999997\n",
      "Iteration 7\n",
      "  Suggestion 13: {'w': 4.999999868370016, 'x': 2.0, 'y': 0.3, 'z': 'k'} -> 238.90999868370017\n",
      "  Suggestion 14: {'w': 5.0, 'x': 2.0, 'y': 0.3, 'z': 'k'} -> 238.91\n",
      "Iteration 8\n",
      "  Suggestion 15: {'w': 3.74894770402548, 'x': 2.0, 'y': 0.3, 'z': 'k'} -> 227.96460888751793\n",
      "  Suggestion 16: {'w': 5.0, 'x': 1.0, 'y': 0.3, 'z': 'k'} -> 131.91\n",
      "Iteration 9\n",
      "  Suggestion 17: {'w': 5.0, 'x': 2.0, 'y': 0.3, 'z': 'k'} -> 238.91\n",
      "  Suggestion 18: {'w': 5.0, 'x': 2.0, 'y': 0.3, 'z': 'k'} -> 238.91\n",
      "Iteration 10\n",
      "  Suggestion 19: {'w': 1.3362678267405345e-14, 'x': 2.0, 'y': 0.3, 'z': 'k'} -> 213.91\n",
      "  Suggestion 20: {'w': 4.999999999999989, 'x': 2.0, 'y': 7.2, 'z': 'k'} -> 187.15999999999988\n"
     ]
    }
   ],
   "source": [
    "# Reset workspace\n",
    "%reset -f\n",
    "\n",
    "# From https://github.com/google/vizier/blob/main/README.md\n",
    "from vizier.service import clients\n",
    "from vizier.service import pyvizier as vz\n",
    "\n",
    "# Objective function to maximize.\n",
    "def evaluate(w: float, x: int, y: float, z: str) -> float:\n",
    "  return w**2 - y**2 + x * ord(z)\n",
    "\n",
    "# Algorithm, search space, and metrics.\n",
    "study_config = vz.StudyConfig(algorithm='DEFAULT')\n",
    "study_config.search_space.root.add_float_param('w', 0.0, 5.0)\n",
    "study_config.search_space.root.add_int_param('x', -2, 2)\n",
    "study_config.search_space.root.add_discrete_param('y', [0.3, 7.2])\n",
    "study_config.search_space.root.add_categorical_param('z', ['a', 'g', 'k'])\n",
    "study_config.metric_information.append(vz.MetricInformation('metric_name', goal=vz.ObjectiveMetricGoal.MAXIMIZE))\n",
    "\n",
    "# Setup client and begin optimization. Vizier Service will be implicitly created.\n",
    "study = clients.Study.from_study_config(study_config, owner='my_name', study_id='example')\n",
    "for i in range(10):\n",
    "  print(f'Iteration {i + 1}')\n",
    "  suggestions = study.suggest(count=2)\n",
    "  for suggestion in suggestions:\n",
    "    params = suggestion.parameters\n",
    "    objective = evaluate(params['w'], params['x'], params['y'], params['z'])\n",
    "    suggestion.complete(vz.Measurement({'metric_name': objective}))\n",
    "    print(f'  Suggestion {suggestion.id}: {params} -> {objective}')"
   ]
  }
 ],
 "metadata": {
  "kernelspec": {
   "display_name": ".venv",
   "language": "python",
   "name": "python3"
  },
  "language_info": {
   "codemirror_mode": {
    "name": "ipython",
    "version": 3
   },
   "file_extension": ".py",
   "mimetype": "text/x-python",
   "name": "python",
   "nbconvert_exporter": "python",
   "pygments_lexer": "ipython3",
   "version": "3.10.12"
  }
 },
 "nbformat": 4,
 "nbformat_minor": 2
}
